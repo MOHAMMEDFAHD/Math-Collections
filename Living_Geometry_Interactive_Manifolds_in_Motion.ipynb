{
  "nbformat": 4,
  "nbformat_minor": 0,
  "metadata": {
    "colab": {
      "provenance": [],
      "machine_shape": "hm",
      "gpuType": "L4"
    },
    "kernelspec": {
      "name": "python3",
      "display_name": "Python 3"
    },
    "language_info": {
      "name": "python"
    },
    "accelerator": "GPU"
  },
  "cells": [
    {
      "cell_type": "code",
      "execution_count": null,
      "metadata": {
        "id": "NracQELeqAMj"
      },
      "outputs": [],
      "source": [
        "# Run this once at the top of your notebook\n",
        "import numpy as np\n",
        "import matplotlib.pyplot as plt\n",
        "from mpl_toolkits.mplot3d import Axes3D\n",
        "from matplotlib import cm\n",
        "from matplotlib import animation\n",
        "from IPython.display import HTML\n",
        "import ipywidgets as widgets\n"
      ]
    },
    {
      "cell_type": "code",
      "source": [
        "def create_sphere():\n",
        "    u = np.linspace(0, 2 * np.pi, 100)\n",
        "    v = np.linspace(0, np.pi, 100)\n",
        "    u, v = np.meshgrid(u, v)\n",
        "    X = np.cos(u) * np.sin(v)\n",
        "    Y = np.sin(u) * np.sin(v)\n",
        "    Z = np.cos(v)\n",
        "    return X, Y, Z\n",
        "\n",
        "X, Y, Z = create_sphere()\n",
        "\n",
        "fig = plt.figure(figsize=(8,6))\n",
        "ax = fig.add_subplot(111, projection='3d')\n",
        "surf = ax.plot_surface(X, Y, Z, cmap=cm.coolwarm)\n",
        "\n",
        "def animate(i):\n",
        "    ax.view_init(elev=30, azim=i)\n",
        "    return fig,\n",
        "\n",
        "ani = animation.FuncAnimation(fig, animate, frames=360, interval=50)\n",
        "plt.close()\n",
        "HTML(ani.to_jshtml())\n"
      ],
      "metadata": {
        "id": "bWNCSOZNqD1E"
      },
      "execution_count": null,
      "outputs": []
    },
    {
      "cell_type": "code",
      "source": [
        "@widgets.interact(azimuth=widgets.IntSlider(min=0, max=360, step=5, value=45),\n",
        "                  elevation=widgets.IntSlider(min=0, max=90, step=5, value=30))\n",
        "def interactive_view(azimuth=45, elevation=30):\n",
        "    fig = plt.figure(figsize=(8,6))\n",
        "    ax = fig.add_subplot(111, projection='3d')\n",
        "    ax.plot_surface(X, Y, Z, cmap=cm.viridis)\n",
        "    ax.view_init(elev=elevation, azim=azimuth)\n",
        "    plt.show()\n"
      ],
      "metadata": {
        "id": "RKZMu5vEqN9H"
      },
      "execution_count": null,
      "outputs": []
    },
    {
      "cell_type": "code",
      "source": [
        "def export_to_obj(X, Y, Z, filename=\"shape.obj\"):\n",
        "    with open(filename, 'w') as f:\n",
        "        for x, y, z in zip(X.flatten(), Y.flatten(), Z.flatten()):\n",
        "            f.write(f\"v {x} {y} {z}\\n\")\n",
        "\n",
        "        num_rows, num_cols = X.shape\n",
        "        for i in range(num_rows - 1):\n",
        "            for j in range(num_cols - 1):\n",
        "                idx = lambda r, c: r * num_cols + c + 1\n",
        "                f.write(f\"f {idx(i,j)} {idx(i+1,j)} {idx(i+1,j+1)}\\n\")\n",
        "                f.write(f\"f {idx(i,j)} {idx(i+1,j+1)} {idx(i,j+1)}\\n\")\n",
        "\n",
        "# Example usage for exporting sphere:\n",
        "export_to_obj(X, Y, Z, \"sphere.obj\")\n"
      ],
      "metadata": {
        "id": "oZLlCx59rVgS"
      },
      "execution_count": null,
      "outputs": []
    },
    {
      "cell_type": "code",
      "source": [
        "R = np.sqrt(X**2 + Y**2 + Z**2)\n",
        "\n",
        "fig = plt.figure(figsize=(8,6))\n",
        "ax = fig.add_subplot(111, projection='3d')\n",
        "surf = ax.plot_surface(X, Y, Z, facecolors=cm.magma(R / np.max(R)), rstride=1, cstride=1)\n",
        "ax.set_title(\"UV / Curvature Proxy Coloring\")\n",
        "plt.show()\n"
      ],
      "metadata": {
        "id": "wz8znccmrZTI"
      },
      "execution_count": null,
      "outputs": []
    }
  ]
}